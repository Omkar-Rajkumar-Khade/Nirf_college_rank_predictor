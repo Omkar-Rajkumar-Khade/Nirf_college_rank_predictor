{
 "cells": [
  {
   "cell_type": "markdown",
   "id": "f5ff20ad",
   "metadata": {},
   "source": [
    "### Load Data"
   ]
  },
  {
   "cell_type": "code",
   "execution_count": 1,
   "id": "d84207c3",
   "metadata": {},
   "outputs": [],
   "source": [
    "import pandas as pd\n",
    "import matplotlib.pyplot as plt\n",
    "import numpy as np"
   ]
  },
  {
   "cell_type": "code",
   "execution_count": 2,
   "id": "ec7554a1",
   "metadata": {},
   "outputs": [
    {
     "data": {
      "text/html": [
       "<div>\n",
       "<style scoped>\n",
       "    .dataframe tbody tr th:only-of-type {\n",
       "        vertical-align: middle;\n",
       "    }\n",
       "\n",
       "    .dataframe tbody tr th {\n",
       "        vertical-align: top;\n",
       "    }\n",
       "\n",
       "    .dataframe thead th {\n",
       "        text-align: right;\n",
       "    }\n",
       "</style>\n",
       "<table border=\"1\" class=\"dataframe\">\n",
       "  <thead>\n",
       "    <tr style=\"text-align: right;\">\n",
       "      <th></th>\n",
       "      <th>institute_id</th>\n",
       "      <th>name</th>\n",
       "      <th>tlr</th>\n",
       "      <th>rpc</th>\n",
       "      <th>go</th>\n",
       "      <th>oi</th>\n",
       "      <th>perception</th>\n",
       "      <th>city</th>\n",
       "      <th>state</th>\n",
       "      <th>rank</th>\n",
       "    </tr>\n",
       "  </thead>\n",
       "  <tbody>\n",
       "    <tr>\n",
       "      <th>52</th>\n",
       "      <td>IR-E-U-0395</td>\n",
       "      <td>Indian Institute of Technology Jodhpur</td>\n",
       "      <td>67.71</td>\n",
       "      <td>26.19</td>\n",
       "      <td>56.17</td>\n",
       "      <td>59.29</td>\n",
       "      <td>8.05</td>\n",
       "      <td>Jodhpur</td>\n",
       "      <td>Rajasthan</td>\n",
       "      <td>53</td>\n",
       "    </tr>\n",
       "    <tr>\n",
       "      <th>192</th>\n",
       "      <td>IR-E-U-0129</td>\n",
       "      <td>Dharmsinh Desai University</td>\n",
       "      <td>49.40</td>\n",
       "      <td>2.29</td>\n",
       "      <td>59.12</td>\n",
       "      <td>36.87</td>\n",
       "      <td>2.69</td>\n",
       "      <td>Nadiad</td>\n",
       "      <td>Gujarat</td>\n",
       "      <td>193</td>\n",
       "    </tr>\n",
       "    <tr>\n",
       "      <th>26</th>\n",
       "      <td>IR-E-U-0334</td>\n",
       "      <td>Visvesvaraya National Institute of Technology</td>\n",
       "      <td>67.70</td>\n",
       "      <td>45.19</td>\n",
       "      <td>69.73</td>\n",
       "      <td>53.77</td>\n",
       "      <td>15.56</td>\n",
       "      <td>Nagpur</td>\n",
       "      <td>Maharashtra</td>\n",
       "      <td>27</td>\n",
       "    </tr>\n",
       "    <tr>\n",
       "      <th>96</th>\n",
       "      <td>IR-E-C-18154</td>\n",
       "      <td>University College of Engineering</td>\n",
       "      <td>58.25</td>\n",
       "      <td>10.41</td>\n",
       "      <td>59.54</td>\n",
       "      <td>50.97</td>\n",
       "      <td>1.63</td>\n",
       "      <td>Kakinada</td>\n",
       "      <td>Andhra Pradesh</td>\n",
       "      <td>97</td>\n",
       "    </tr>\n",
       "    <tr>\n",
       "      <th>72</th>\n",
       "      <td>IR-E-C-1262</td>\n",
       "      <td>B M S  College of Engineering</td>\n",
       "      <td>62.07</td>\n",
       "      <td>11.92</td>\n",
       "      <td>55.53</td>\n",
       "      <td>52.58</td>\n",
       "      <td>17.79</td>\n",
       "      <td>Bengaluru</td>\n",
       "      <td>Karnataka</td>\n",
       "      <td>73</td>\n",
       "    </tr>\n",
       "    <tr>\n",
       "      <th>181</th>\n",
       "      <td>IR-E-U-0455</td>\n",
       "      <td>Indian Institute of Information Technology  De...</td>\n",
       "      <td>35.51</td>\n",
       "      <td>7.80</td>\n",
       "      <td>57.62</td>\n",
       "      <td>53.05</td>\n",
       "      <td>18.15</td>\n",
       "      <td>Chennai</td>\n",
       "      <td>Tamil Nadu</td>\n",
       "      <td>182</td>\n",
       "    </tr>\n",
       "  </tbody>\n",
       "</table>\n",
       "</div>"
      ],
      "text/plain": [
       "     institute_id                                               name    tlr  \\\n",
       "52    IR-E-U-0395             Indian Institute of Technology Jodhpur  67.71   \n",
       "192   IR-E-U-0129                         Dharmsinh Desai University  49.40   \n",
       "26    IR-E-U-0334      Visvesvaraya National Institute of Technology  67.70   \n",
       "96   IR-E-C-18154                  University College of Engineering  58.25   \n",
       "72    IR-E-C-1262                      B M S  College of Engineering  62.07   \n",
       "181   IR-E-U-0455  Indian Institute of Information Technology  De...  35.51   \n",
       "\n",
       "       rpc     go     oi  perception       city           state  rank  \n",
       "52   26.19  56.17  59.29        8.05    Jodhpur       Rajasthan    53  \n",
       "192   2.29  59.12  36.87        2.69     Nadiad         Gujarat   193  \n",
       "26   45.19  69.73  53.77       15.56     Nagpur     Maharashtra    27  \n",
       "96   10.41  59.54  50.97        1.63   Kakinada  Andhra Pradesh    97  \n",
       "72   11.92  55.53  52.58       17.79  Bengaluru       Karnataka    73  \n",
       "181   7.80  57.62  53.05       18.15    Chennai      Tamil Nadu   182  "
      ]
     },
     "execution_count": 2,
     "metadata": {},
     "output_type": "execute_result"
    }
   ],
   "source": [
    "df=pd.read_csv(\"./dataset/engineering.csv\")\n",
    "df.sample(6)"
   ]
  },
  {
   "cell_type": "code",
   "execution_count": 3,
   "id": "776fee25",
   "metadata": {},
   "outputs": [
    {
     "data": {
      "text/plain": [
       "(200, 10)"
      ]
     },
     "execution_count": 3,
     "metadata": {},
     "output_type": "execute_result"
    }
   ],
   "source": [
    "df.shape"
   ]
  },
  {
   "cell_type": "code",
   "execution_count": 4,
   "id": "42780ef4",
   "metadata": {},
   "outputs": [
    {
     "name": "stdout",
     "output_type": "stream",
     "text": [
      "<class 'pandas.core.frame.DataFrame'>\n",
      "RangeIndex: 200 entries, 0 to 199\n",
      "Data columns (total 10 columns):\n",
      " #   Column        Non-Null Count  Dtype  \n",
      "---  ------        --------------  -----  \n",
      " 0   institute_id  200 non-null    object \n",
      " 1   name          200 non-null    object \n",
      " 2   tlr           200 non-null    float64\n",
      " 3   rpc           200 non-null    float64\n",
      " 4   go            200 non-null    float64\n",
      " 5   oi            200 non-null    float64\n",
      " 6   perception    200 non-null    float64\n",
      " 7   city          200 non-null    object \n",
      " 8   state         200 non-null    object \n",
      " 9   rank          200 non-null    int64  \n",
      "dtypes: float64(5), int64(1), object(4)\n",
      "memory usage: 15.8+ KB\n"
     ]
    }
   ],
   "source": [
    "df.info()"
   ]
  },
  {
   "cell_type": "code",
   "execution_count": 5,
   "id": "19d1bfa2",
   "metadata": {},
   "outputs": [
    {
     "data": {
      "text/plain": [
       "institute_id    0\n",
       "name            0\n",
       "tlr             0\n",
       "rpc             0\n",
       "go              0\n",
       "oi              0\n",
       "perception      0\n",
       "city            0\n",
       "state           0\n",
       "rank            0\n",
       "dtype: int64"
      ]
     },
     "execution_count": 5,
     "metadata": {},
     "output_type": "execute_result"
    }
   ],
   "source": [
    "df.isnull().sum()"
   ]
  },
  {
   "cell_type": "code",
   "execution_count": 6,
   "id": "a1867f67",
   "metadata": {},
   "outputs": [
    {
     "data": {
      "text/html": [
       "<div>\n",
       "<style scoped>\n",
       "    .dataframe tbody tr th:only-of-type {\n",
       "        vertical-align: middle;\n",
       "    }\n",
       "\n",
       "    .dataframe tbody tr th {\n",
       "        vertical-align: top;\n",
       "    }\n",
       "\n",
       "    .dataframe thead th {\n",
       "        text-align: right;\n",
       "    }\n",
       "</style>\n",
       "<table border=\"1\" class=\"dataframe\">\n",
       "  <thead>\n",
       "    <tr style=\"text-align: right;\">\n",
       "      <th></th>\n",
       "      <th>tlr</th>\n",
       "      <th>rpc</th>\n",
       "      <th>go</th>\n",
       "      <th>oi</th>\n",
       "      <th>perception</th>\n",
       "      <th>rank</th>\n",
       "    </tr>\n",
       "  </thead>\n",
       "  <tbody>\n",
       "    <tr>\n",
       "      <th>count</th>\n",
       "      <td>200.000000</td>\n",
       "      <td>200.000000</td>\n",
       "      <td>200.00000</td>\n",
       "      <td>200.000000</td>\n",
       "      <td>200.000000</td>\n",
       "      <td>200.000000</td>\n",
       "    </tr>\n",
       "    <tr>\n",
       "      <th>mean</th>\n",
       "      <td>59.050150</td>\n",
       "      <td>20.307350</td>\n",
       "      <td>56.70360</td>\n",
       "      <td>51.873700</td>\n",
       "      <td>14.214650</td>\n",
       "      <td>100.475000</td>\n",
       "    </tr>\n",
       "    <tr>\n",
       "      <th>std</th>\n",
       "      <td>10.152778</td>\n",
       "      <td>19.937026</td>\n",
       "      <td>11.10281</td>\n",
       "      <td>6.853437</td>\n",
       "      <td>19.262625</td>\n",
       "      <td>57.866936</td>\n",
       "    </tr>\n",
       "    <tr>\n",
       "      <th>min</th>\n",
       "      <td>35.510000</td>\n",
       "      <td>0.460000</td>\n",
       "      <td>13.06000</td>\n",
       "      <td>33.800000</td>\n",
       "      <td>0.000000</td>\n",
       "      <td>1.000000</td>\n",
       "    </tr>\n",
       "    <tr>\n",
       "      <th>25%</th>\n",
       "      <td>52.535000</td>\n",
       "      <td>5.397500</td>\n",
       "      <td>50.11250</td>\n",
       "      <td>47.360000</td>\n",
       "      <td>2.557500</td>\n",
       "      <td>50.750000</td>\n",
       "    </tr>\n",
       "    <tr>\n",
       "      <th>50%</th>\n",
       "      <td>57.525000</td>\n",
       "      <td>13.350000</td>\n",
       "      <td>55.07000</td>\n",
       "      <td>51.855000</td>\n",
       "      <td>6.650000</td>\n",
       "      <td>100.500000</td>\n",
       "    </tr>\n",
       "    <tr>\n",
       "      <th>75%</th>\n",
       "      <td>64.392500</td>\n",
       "      <td>30.642500</td>\n",
       "      <td>63.09500</td>\n",
       "      <td>56.002500</td>\n",
       "      <td>17.790000</td>\n",
       "      <td>150.250000</td>\n",
       "    </tr>\n",
       "    <tr>\n",
       "      <th>max</th>\n",
       "      <td>95.420000</td>\n",
       "      <td>96.150000</td>\n",
       "      <td>89.65000</td>\n",
       "      <td>75.700000</td>\n",
       "      <td>100.000000</td>\n",
       "      <td>200.000000</td>\n",
       "    </tr>\n",
       "  </tbody>\n",
       "</table>\n",
       "</div>"
      ],
      "text/plain": [
       "              tlr         rpc         go          oi  perception        rank\n",
       "count  200.000000  200.000000  200.00000  200.000000  200.000000  200.000000\n",
       "mean    59.050150   20.307350   56.70360   51.873700   14.214650  100.475000\n",
       "std     10.152778   19.937026   11.10281    6.853437   19.262625   57.866936\n",
       "min     35.510000    0.460000   13.06000   33.800000    0.000000    1.000000\n",
       "25%     52.535000    5.397500   50.11250   47.360000    2.557500   50.750000\n",
       "50%     57.525000   13.350000   55.07000   51.855000    6.650000  100.500000\n",
       "75%     64.392500   30.642500   63.09500   56.002500   17.790000  150.250000\n",
       "max     95.420000   96.150000   89.65000   75.700000  100.000000  200.000000"
      ]
     },
     "execution_count": 6,
     "metadata": {},
     "output_type": "execute_result"
    }
   ],
   "source": [
    "df.describe()"
   ]
  },
  {
   "cell_type": "code",
   "execution_count": 7,
   "id": "d0fb7350",
   "metadata": {},
   "outputs": [
    {
     "data": {
      "text/plain": [
       "0"
      ]
     },
     "execution_count": 7,
     "metadata": {},
     "output_type": "execute_result"
    }
   ],
   "source": [
    "df.duplicated().sum()"
   ]
  },
  {
   "cell_type": "code",
   "execution_count": 8,
   "id": "847854e7",
   "metadata": {},
   "outputs": [
    {
     "name": "stderr",
     "output_type": "stream",
     "text": [
      "C:\\Users\\Omkar Khade\\AppData\\Local\\Temp\\ipykernel_9068\\1134722465.py:1: FutureWarning: The default value of numeric_only in DataFrame.corr is deprecated. In a future version, it will default to False. Select only valid columns or specify the value of numeric_only to silence this warning.\n",
      "  df.corr()\n"
     ]
    },
    {
     "data": {
      "text/html": [
       "<div>\n",
       "<style scoped>\n",
       "    .dataframe tbody tr th:only-of-type {\n",
       "        vertical-align: middle;\n",
       "    }\n",
       "\n",
       "    .dataframe tbody tr th {\n",
       "        vertical-align: top;\n",
       "    }\n",
       "\n",
       "    .dataframe thead th {\n",
       "        text-align: right;\n",
       "    }\n",
       "</style>\n",
       "<table border=\"1\" class=\"dataframe\">\n",
       "  <thead>\n",
       "    <tr style=\"text-align: right;\">\n",
       "      <th></th>\n",
       "      <th>tlr</th>\n",
       "      <th>rpc</th>\n",
       "      <th>go</th>\n",
       "      <th>oi</th>\n",
       "      <th>perception</th>\n",
       "      <th>rank</th>\n",
       "    </tr>\n",
       "  </thead>\n",
       "  <tbody>\n",
       "    <tr>\n",
       "      <th>tlr</th>\n",
       "      <td>1.000000</td>\n",
       "      <td>0.644496</td>\n",
       "      <td>0.433223</td>\n",
       "      <td>0.441925</td>\n",
       "      <td>0.685677</td>\n",
       "      <td>-0.743884</td>\n",
       "    </tr>\n",
       "    <tr>\n",
       "      <th>rpc</th>\n",
       "      <td>0.644496</td>\n",
       "      <td>1.000000</td>\n",
       "      <td>0.610339</td>\n",
       "      <td>0.229635</td>\n",
       "      <td>0.812273</td>\n",
       "      <td>-0.798349</td>\n",
       "    </tr>\n",
       "    <tr>\n",
       "      <th>go</th>\n",
       "      <td>0.433223</td>\n",
       "      <td>0.610339</td>\n",
       "      <td>1.000000</td>\n",
       "      <td>0.274123</td>\n",
       "      <td>0.670738</td>\n",
       "      <td>-0.655488</td>\n",
       "    </tr>\n",
       "    <tr>\n",
       "      <th>oi</th>\n",
       "      <td>0.441925</td>\n",
       "      <td>0.229635</td>\n",
       "      <td>0.274123</td>\n",
       "      <td>1.000000</td>\n",
       "      <td>0.266696</td>\n",
       "      <td>-0.426902</td>\n",
       "    </tr>\n",
       "    <tr>\n",
       "      <th>perception</th>\n",
       "      <td>0.685677</td>\n",
       "      <td>0.812273</td>\n",
       "      <td>0.670738</td>\n",
       "      <td>0.266696</td>\n",
       "      <td>1.000000</td>\n",
       "      <td>-0.693651</td>\n",
       "    </tr>\n",
       "    <tr>\n",
       "      <th>rank</th>\n",
       "      <td>-0.743884</td>\n",
       "      <td>-0.798349</td>\n",
       "      <td>-0.655488</td>\n",
       "      <td>-0.426902</td>\n",
       "      <td>-0.693651</td>\n",
       "      <td>1.000000</td>\n",
       "    </tr>\n",
       "  </tbody>\n",
       "</table>\n",
       "</div>"
      ],
      "text/plain": [
       "                 tlr       rpc        go        oi  perception      rank\n",
       "tlr         1.000000  0.644496  0.433223  0.441925    0.685677 -0.743884\n",
       "rpc         0.644496  1.000000  0.610339  0.229635    0.812273 -0.798349\n",
       "go          0.433223  0.610339  1.000000  0.274123    0.670738 -0.655488\n",
       "oi          0.441925  0.229635  0.274123  1.000000    0.266696 -0.426902\n",
       "perception  0.685677  0.812273  0.670738  0.266696    1.000000 -0.693651\n",
       "rank       -0.743884 -0.798349 -0.655488 -0.426902   -0.693651  1.000000"
      ]
     },
     "execution_count": 8,
     "metadata": {},
     "output_type": "execute_result"
    }
   ],
   "source": [
    "df.corr()"
   ]
  },
  {
   "cell_type": "code",
   "execution_count": 9,
   "id": "8de4cea6",
   "metadata": {},
   "outputs": [
    {
     "name": "stderr",
     "output_type": "stream",
     "text": [
      "C:\\Users\\Omkar Khade\\AppData\\Local\\Temp\\ipykernel_9068\\1076813670.py:1: FutureWarning: The default value of numeric_only in DataFrame.corr is deprecated. In a future version, it will default to False. Select only valid columns or specify the value of numeric_only to silence this warning.\n",
      "  df.corr()['rank']\n"
     ]
    },
    {
     "data": {
      "text/plain": [
       "tlr          -0.743884\n",
       "rpc          -0.798349\n",
       "go           -0.655488\n",
       "oi           -0.426902\n",
       "perception   -0.693651\n",
       "rank          1.000000\n",
       "Name: rank, dtype: float64"
      ]
     },
     "execution_count": 9,
     "metadata": {},
     "output_type": "execute_result"
    }
   ],
   "source": [
    "df.corr()['rank']"
   ]
  },
  {
   "cell_type": "code",
   "execution_count": 10,
   "id": "e2cae2b9",
   "metadata": {},
   "outputs": [
    {
     "data": {
      "text/html": [
       "<div>\n",
       "<style scoped>\n",
       "    .dataframe tbody tr th:only-of-type {\n",
       "        vertical-align: middle;\n",
       "    }\n",
       "\n",
       "    .dataframe tbody tr th {\n",
       "        vertical-align: top;\n",
       "    }\n",
       "\n",
       "    .dataframe thead th {\n",
       "        text-align: right;\n",
       "    }\n",
       "</style>\n",
       "<table border=\"1\" class=\"dataframe\">\n",
       "  <thead>\n",
       "    <tr style=\"text-align: right;\">\n",
       "      <th></th>\n",
       "      <th>tlr</th>\n",
       "      <th>rpc</th>\n",
       "      <th>go</th>\n",
       "      <th>oi</th>\n",
       "      <th>perception</th>\n",
       "      <th>rank</th>\n",
       "    </tr>\n",
       "  </thead>\n",
       "  <tbody>\n",
       "    <tr>\n",
       "      <th>149</th>\n",
       "      <td>53.05</td>\n",
       "      <td>6.12</td>\n",
       "      <td>52.87</td>\n",
       "      <td>46.82</td>\n",
       "      <td>5.21</td>\n",
       "      <td>150</td>\n",
       "    </tr>\n",
       "    <tr>\n",
       "      <th>163</th>\n",
       "      <td>57.13</td>\n",
       "      <td>2.86</td>\n",
       "      <td>49.94</td>\n",
       "      <td>45.99</td>\n",
       "      <td>2.16</td>\n",
       "      <td>164</td>\n",
       "    </tr>\n",
       "    <tr>\n",
       "      <th>196</th>\n",
       "      <td>46.11</td>\n",
       "      <td>7.36</td>\n",
       "      <td>50.73</td>\n",
       "      <td>48.76</td>\n",
       "      <td>0.55</td>\n",
       "      <td>197</td>\n",
       "    </tr>\n",
       "    <tr>\n",
       "      <th>48</th>\n",
       "      <td>69.35</td>\n",
       "      <td>19.73</td>\n",
       "      <td>52.14</td>\n",
       "      <td>48.69</td>\n",
       "      <td>51.77</td>\n",
       "      <td>49</td>\n",
       "    </tr>\n",
       "    <tr>\n",
       "      <th>193</th>\n",
       "      <td>41.95</td>\n",
       "      <td>12.14</td>\n",
       "      <td>53.25</td>\n",
       "      <td>43.08</td>\n",
       "      <td>0.55</td>\n",
       "      <td>194</td>\n",
       "    </tr>\n",
       "    <tr>\n",
       "      <th>143</th>\n",
       "      <td>41.84</td>\n",
       "      <td>24.72</td>\n",
       "      <td>48.59</td>\n",
       "      <td>39.99</td>\n",
       "      <td>0.00</td>\n",
       "      <td>144</td>\n",
       "    </tr>\n",
       "  </tbody>\n",
       "</table>\n",
       "</div>"
      ],
      "text/plain": [
       "       tlr    rpc     go     oi  perception  rank\n",
       "149  53.05   6.12  52.87  46.82        5.21   150\n",
       "163  57.13   2.86  49.94  45.99        2.16   164\n",
       "196  46.11   7.36  50.73  48.76        0.55   197\n",
       "48   69.35  19.73  52.14  48.69       51.77    49\n",
       "193  41.95  12.14  53.25  43.08        0.55   194\n",
       "143  41.84  24.72  48.59  39.99        0.00   144"
      ]
     },
     "execution_count": 10,
     "metadata": {},
     "output_type": "execute_result"
    }
   ],
   "source": [
    "clean_df=df.drop([\"institute_id\",\"name\",\"city\",\"state\"],axis=True)\n",
    "clean_df.sample(6)"
   ]
  },
  {
   "cell_type": "markdown",
   "id": "32a9f6a6",
   "metadata": {},
   "source": [
    "### Split Data"
   ]
  },
  {
   "cell_type": "code",
   "execution_count": 11,
   "id": "91737acd",
   "metadata": {},
   "outputs": [
    {
     "name": "stdout",
     "output_type": "stream",
     "text": [
      "Shape of X =  (200, 5)\n",
      "Shape of y =  (200,)\n"
     ]
    }
   ],
   "source": [
    "X = clean_df.drop('rank', axis=1)\n",
    "y = clean_df['rank']\n",
    "\n",
    "print('Shape of X = ', X.shape)\n",
    "print('Shape of y = ', y.shape)"
   ]
  },
  {
   "cell_type": "code",
   "execution_count": 12,
   "id": "f34aa097",
   "metadata": {},
   "outputs": [
    {
     "name": "stdout",
     "output_type": "stream",
     "text": [
      "Shape of X_train =  (160, 5)\n",
      "Shape of y_train =  (160,)\n",
      "Shape of X_test =  (40, 5)\n",
      "Shape of y_test =  (40,)\n"
     ]
    }
   ],
   "source": [
    "from sklearn.model_selection import train_test_split\n",
    "X_train, X_test, y_train, y_test = train_test_split(X, y, test_size=0.2, random_state=51)\n",
    "\n",
    "print('Shape of X_train = ', X_train.shape)\n",
    "print('Shape of y_train = ', y_train.shape)\n",
    "print('Shape of X_test = ', X_test.shape)\n",
    "print('Shape of y_test = ', y_test.shape)"
   ]
  },
  {
   "cell_type": "markdown",
   "id": "4c07486f",
   "metadata": {},
   "source": [
    "### Model Traning with Support Vector Regressor"
   ]
  },
  {
   "cell_type": "code",
   "execution_count": 13,
   "id": "b95dc145",
   "metadata": {},
   "outputs": [],
   "source": [
    "from sklearn.svm import SVR"
   ]
  },
  {
   "cell_type": "code",
   "execution_count": 14,
   "id": "ff96aad7",
   "metadata": {},
   "outputs": [
    {
     "data": {
      "text/plain": [
       "0.802427660287366"
      ]
     },
     "execution_count": 14,
     "metadata": {},
     "output_type": "execute_result"
    }
   ],
   "source": [
    "#Model Traning with ernel='linear'\n",
    "svr_linear = SVR(kernel='linear')\n",
    "svr_linear.fit(X_train, y_train)\n",
    "svr_linear.score(X_test, y_test)"
   ]
  },
  {
   "cell_type": "code",
   "execution_count": 15,
   "id": "a6ca0e4e",
   "metadata": {},
   "outputs": [],
   "source": [
    "y_pred=svr_linear.predict(X_test)"
   ]
  },
  {
   "cell_type": "code",
   "execution_count": 16,
   "id": "eb27e287",
   "metadata": {},
   "outputs": [],
   "source": [
    "from sklearn.metrics import mean_squared_error"
   ]
  },
  {
   "cell_type": "code",
   "execution_count": 17,
   "id": "09fec630",
   "metadata": {},
   "outputs": [
    {
     "name": "stdout",
     "output_type": "stream",
     "text": [
      "MSE =  691.1691682573924\n",
      "RMSE =  26.290096391177276\n"
     ]
    }
   ],
   "source": [
    "#first finding mean square error using mean_squared_error class\n",
    "mse = mean_squared_error(y_test, y_pred)\n",
    "#finding Root mean square error using pandas\n",
    "rmse = np.sqrt(mse)\n",
    "\n",
    "print('MSE = ', mse)\n",
    "print('RMSE = ', rmse)"
   ]
  },
  {
   "cell_type": "markdown",
   "id": "1bbbbd93",
   "metadata": {},
   "source": [
    "### Model Traning with Random Forest Regressor"
   ]
  },
  {
   "cell_type": "code",
   "execution_count": 18,
   "id": "06dba083",
   "metadata": {},
   "outputs": [],
   "source": [
    "from sklearn.ensemble import RandomForestRegressor"
   ]
  },
  {
   "cell_type": "code",
   "execution_count": 19,
   "id": "19af1029",
   "metadata": {},
   "outputs": [
    {
     "data": {
      "text/html": [
       "<style>#sk-container-id-1 {color: black;background-color: white;}#sk-container-id-1 pre{padding: 0;}#sk-container-id-1 div.sk-toggleable {background-color: white;}#sk-container-id-1 label.sk-toggleable__label {cursor: pointer;display: block;width: 100%;margin-bottom: 0;padding: 0.3em;box-sizing: border-box;text-align: center;}#sk-container-id-1 label.sk-toggleable__label-arrow:before {content: \"▸\";float: left;margin-right: 0.25em;color: #696969;}#sk-container-id-1 label.sk-toggleable__label-arrow:hover:before {color: black;}#sk-container-id-1 div.sk-estimator:hover label.sk-toggleable__label-arrow:before {color: black;}#sk-container-id-1 div.sk-toggleable__content {max-height: 0;max-width: 0;overflow: hidden;text-align: left;background-color: #f0f8ff;}#sk-container-id-1 div.sk-toggleable__content pre {margin: 0.2em;color: black;border-radius: 0.25em;background-color: #f0f8ff;}#sk-container-id-1 input.sk-toggleable__control:checked~div.sk-toggleable__content {max-height: 200px;max-width: 100%;overflow: auto;}#sk-container-id-1 input.sk-toggleable__control:checked~label.sk-toggleable__label-arrow:before {content: \"▾\";}#sk-container-id-1 div.sk-estimator input.sk-toggleable__control:checked~label.sk-toggleable__label {background-color: #d4ebff;}#sk-container-id-1 div.sk-label input.sk-toggleable__control:checked~label.sk-toggleable__label {background-color: #d4ebff;}#sk-container-id-1 input.sk-hidden--visually {border: 0;clip: rect(1px 1px 1px 1px);clip: rect(1px, 1px, 1px, 1px);height: 1px;margin: -1px;overflow: hidden;padding: 0;position: absolute;width: 1px;}#sk-container-id-1 div.sk-estimator {font-family: monospace;background-color: #f0f8ff;border: 1px dotted black;border-radius: 0.25em;box-sizing: border-box;margin-bottom: 0.5em;}#sk-container-id-1 div.sk-estimator:hover {background-color: #d4ebff;}#sk-container-id-1 div.sk-parallel-item::after {content: \"\";width: 100%;border-bottom: 1px solid gray;flex-grow: 1;}#sk-container-id-1 div.sk-label:hover label.sk-toggleable__label {background-color: #d4ebff;}#sk-container-id-1 div.sk-serial::before {content: \"\";position: absolute;border-left: 1px solid gray;box-sizing: border-box;top: 0;bottom: 0;left: 50%;z-index: 0;}#sk-container-id-1 div.sk-serial {display: flex;flex-direction: column;align-items: center;background-color: white;padding-right: 0.2em;padding-left: 0.2em;position: relative;}#sk-container-id-1 div.sk-item {position: relative;z-index: 1;}#sk-container-id-1 div.sk-parallel {display: flex;align-items: stretch;justify-content: center;background-color: white;position: relative;}#sk-container-id-1 div.sk-item::before, #sk-container-id-1 div.sk-parallel-item::before {content: \"\";position: absolute;border-left: 1px solid gray;box-sizing: border-box;top: 0;bottom: 0;left: 50%;z-index: -1;}#sk-container-id-1 div.sk-parallel-item {display: flex;flex-direction: column;z-index: 1;position: relative;background-color: white;}#sk-container-id-1 div.sk-parallel-item:first-child::after {align-self: flex-end;width: 50%;}#sk-container-id-1 div.sk-parallel-item:last-child::after {align-self: flex-start;width: 50%;}#sk-container-id-1 div.sk-parallel-item:only-child::after {width: 0;}#sk-container-id-1 div.sk-dashed-wrapped {border: 1px dashed gray;margin: 0 0.4em 0.5em 0.4em;box-sizing: border-box;padding-bottom: 0.4em;background-color: white;}#sk-container-id-1 div.sk-label label {font-family: monospace;font-weight: bold;display: inline-block;line-height: 1.2em;}#sk-container-id-1 div.sk-label-container {text-align: center;}#sk-container-id-1 div.sk-container {/* jupyter's `normalize.less` sets `[hidden] { display: none; }` but bootstrap.min.css set `[hidden] { display: none !important; }` so we also need the `!important` here to be able to override the default hidden behavior on the sphinx rendered scikit-learn.org. See: https://github.com/scikit-learn/scikit-learn/issues/21755 */display: inline-block !important;position: relative;}#sk-container-id-1 div.sk-text-repr-fallback {display: none;}</style><div id=\"sk-container-id-1\" class=\"sk-top-container\"><div class=\"sk-text-repr-fallback\"><pre>RandomForestRegressor()</pre><b>In a Jupyter environment, please rerun this cell to show the HTML representation or trust the notebook. <br />On GitHub, the HTML representation is unable to render, please try loading this page with nbviewer.org.</b></div><div class=\"sk-container\" hidden><div class=\"sk-item\"><div class=\"sk-estimator sk-toggleable\"><input class=\"sk-toggleable__control sk-hidden--visually\" id=\"sk-estimator-id-1\" type=\"checkbox\" checked><label for=\"sk-estimator-id-1\" class=\"sk-toggleable__label sk-toggleable__label-arrow\">RandomForestRegressor</label><div class=\"sk-toggleable__content\"><pre>RandomForestRegressor()</pre></div></div></div></div></div>"
      ],
      "text/plain": [
       "RandomForestRegressor()"
      ]
     },
     "execution_count": 19,
     "metadata": {},
     "output_type": "execute_result"
    }
   ],
   "source": [
    "regressorRFR = RandomForestRegressor(n_estimators=100, criterion='squared_error')\n",
    "regressorRFR.fit(X_train, y_train)"
   ]
  },
  {
   "cell_type": "code",
   "execution_count": 20,
   "id": "13c85f99",
   "metadata": {},
   "outputs": [
    {
     "data": {
      "text/plain": [
       "0.9322706585949105"
      ]
     },
     "execution_count": 20,
     "metadata": {},
     "output_type": "execute_result"
    }
   ],
   "source": [
    "regressorRFR.score(X_test, y_test)"
   ]
  },
  {
   "cell_type": "code",
   "execution_count": 21,
   "id": "dce1a31c",
   "metadata": {},
   "outputs": [],
   "source": [
    "y_pred2=regressorRFR.predict(X_test)"
   ]
  },
  {
   "cell_type": "code",
   "execution_count": 22,
   "id": "41d09603",
   "metadata": {},
   "outputs": [
    {
     "name": "stdout",
     "output_type": "stream",
     "text": [
      "MSE =  236.93819\n",
      "RMSE =  15.392796691959521\n"
     ]
    }
   ],
   "source": [
    "#first finding mean square error using mean_squared_error class\n",
    "mse = mean_squared_error(y_test, y_pred2)\n",
    "#finding Root mean square error using pandas\n",
    "rmse = np.sqrt(mse)\n",
    "\n",
    "print('MSE = ', mse)\n",
    "print('RMSE = ', rmse)"
   ]
  },
  {
   "cell_type": "code",
   "execution_count": 30,
   "id": "a3a287fb",
   "metadata": {},
   "outputs": [
    {
     "data": {
      "text/plain": [
       "0.9229691852648199"
      ]
     },
     "execution_count": 30,
     "metadata": {},
     "output_type": "execute_result"
    }
   ],
   "source": [
    "# cross validation using cross_val_score\n",
    "from sklearn.model_selection import cross_val_score\n",
    "cross_val_score(regressorRFR, X_train, y_train, cv=5, ).mean()"
   ]
  },
  {
   "cell_type": "code",
   "execution_count": 23,
   "id": "6e49c043",
   "metadata": {},
   "outputs": [
    {
     "name": "stderr",
     "output_type": "stream",
     "text": [
      "c:\\Users\\Omkar Khade\\AppData\\Local\\Programs\\Python\\Python310\\lib\\site-packages\\sklearn\\base.py:409: UserWarning: X does not have valid feature names, but RandomForestRegressor was fitted with feature names\n",
      "  warnings.warn(\n"
     ]
    },
    {
     "data": {
      "text/plain": [
       "119"
      ]
     },
     "execution_count": 23,
     "metadata": {},
     "output_type": "execute_result"
    }
   ],
   "source": [
    "int(regressorRFR.predict([X_test.iloc[18, :]])[0].round())"
   ]
  },
  {
   "cell_type": "code",
   "execution_count": 24,
   "id": "4eede694",
   "metadata": {},
   "outputs": [
    {
     "data": {
      "text/plain": [
       "129"
      ]
     },
     "execution_count": 24,
     "metadata": {},
     "output_type": "execute_result"
    }
   ],
   "source": [
    "y_test.iloc[18]"
   ]
  },
  {
   "attachments": {},
   "cell_type": "markdown",
   "id": "c3c00220",
   "metadata": {},
   "source": [
    "### Save the Model"
   ]
  },
  {
   "cell_type": "code",
   "execution_count": 25,
   "id": "d66061dd",
   "metadata": {},
   "outputs": [],
   "source": [
    "import joblib\n",
    "#joblib.dump(regressorRFR, \"college_rank_predictor.pkl\")"
   ]
  },
  {
   "cell_type": "code",
   "execution_count": 26,
   "id": "2d4f519c",
   "metadata": {},
   "outputs": [],
   "source": [
    "model = joblib.load(\"college_rank_predictor.pkl\")"
   ]
  },
  {
   "cell_type": "code",
   "execution_count": 27,
   "id": "f7f935d8",
   "metadata": {},
   "outputs": [
    {
     "name": "stderr",
     "output_type": "stream",
     "text": [
      "c:\\Users\\Omkar Khade\\AppData\\Local\\Programs\\Python\\Python310\\lib\\site-packages\\sklearn\\base.py:409: UserWarning: X does not have valid feature names, but RandomForestRegressor was fitted with feature names\n",
      "  warnings.warn(\n"
     ]
    },
    {
     "data": {
      "text/plain": [
       "120.02"
      ]
     },
     "execution_count": 27,
     "metadata": {},
     "output_type": "execute_result"
    }
   ],
   "source": [
    "model.predict([X_test.iloc[18, :]])[0]"
   ]
  },
  {
   "cell_type": "code",
   "execution_count": null,
   "id": "0d0068a2",
   "metadata": {},
   "outputs": [],
   "source": []
  }
 ],
 "metadata": {
  "kernelspec": {
   "display_name": "Python 3 (ipykernel)",
   "language": "python",
   "name": "python3"
  },
  "language_info": {
   "codemirror_mode": {
    "name": "ipython",
    "version": 3
   },
   "file_extension": ".py",
   "mimetype": "text/x-python",
   "name": "python",
   "nbconvert_exporter": "python",
   "pygments_lexer": "ipython3",
   "version": "3.10.8"
  }
 },
 "nbformat": 4,
 "nbformat_minor": 5
}
